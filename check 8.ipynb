{
 "cells": [
  {
   "cell_type": "markdown",
   "id": "bc58f1d0",
   "metadata": {},
   "source": [
    "# 1"
   ]
  },
  {
   "cell_type": "code",
   "execution_count": 79,
   "id": "4f43e4ef",
   "metadata": {
    "scrolled": true
   },
   "outputs": [
    {
     "name": "stdout",
     "output_type": "stream",
     "text": [
      "1 : What is Python language?                                                \n",
      "Python is a widely used high-level, general-purpose, interpreted, dynamic programming language.Its design philosophy emphasizes code readability, and its syntax allows programmers to express concepts in fewer lines of code than possible in \n",
      "languages such as C++ or Java. \n",
      "Python supports multiple programming paradigms, including object-oriented, imperative and functional programming or procedural styles. It features a dynamic type system and automatic memory management and has a large and comprehensive standard library.The best way we learn anything is by practice and exercise questions. We  have started this section for those (beginner to intermediate) who are familiar with Python.\n"
     ]
    }
   ],
   "source": [
    "f = open(\"python .txt\",\"r\")\n",
    "print (\"1 :\",f.read()) \n",
    "f.close()"
   ]
  },
  {
   "cell_type": "markdown",
   "id": "eec18b2b",
   "metadata": {},
   "source": [
    "# 2"
   ]
  },
  {
   "cell_type": "code",
   "execution_count": 3,
   "id": "4e27a84f",
   "metadata": {},
   "outputs": [
    {
     "name": "stdout",
     "output_type": "stream",
     "text": [
      "donnez n SVP 1\n",
      "2 :\n",
      "What is Python language?                                                \n",
      "\n"
     ]
    }
   ],
   "source": [
    "f= open(\"python .txt\")\n",
    "n= int(input(\"donnez n SVP \"))\n",
    "print (\"2 :\")\n",
    "for i in range(n):\n",
    "\n",
    "    line = f.readline()\n",
    "    print(line)\n",
    "f.close()"
   ]
  },
  {
   "cell_type": "markdown",
   "id": "7abf149b",
   "metadata": {},
   "source": [
    "# 3"
   ]
  },
  {
   "cell_type": "code",
   "execution_count": 111,
   "id": "eb18f923",
   "metadata": {},
   "outputs": [
    {
     "name": "stdout",
     "output_type": "stream",
     "text": [
      "donner n 1\n",
      "3 : Python supports multiple programming paradigms, including object-oriented, imperative and functional programming or procedural styles. It features a dynamic type system and automatic memory management and has a large and comprehensive standard library.The best way we learn anything is by practice and exercise questions. We  have started this section for those (beginner to intermediate) who are familiar with Python.\n"
     ]
    }
   ],
   "source": [
    "with open('python .txt', 'r') as f:\n",
    "    n=int(input(\"donner n \"))\n",
    "    for i in range (n): \n",
    "        last_line = f.readlines()[-1]\n",
    "        print(\"3 :\",last_line)"
   ]
  },
  {
   "cell_type": "markdown",
   "id": "5d5c1119",
   "metadata": {},
   "source": [
    "# 4"
   ]
  },
  {
   "cell_type": "code",
   "execution_count": 62,
   "id": "cc579ac6",
   "metadata": {},
   "outputs": [
    {
     "name": "stdout",
     "output_type": "stream",
     "text": [
      "donnez your text file go my code\n",
      "3\n"
     ]
    }
   ],
   "source": [
    "f=open(\"seli.txt\",\"w\")\n",
    "f.write(input(\"donnez your text file \"))\n",
    "def count_words(filepath):\n",
    "    with open(filepath) as f:\n",
    "        data = f.read()\n",
    "        return len(data.split())\n",
    "print(count_words(\"seli.txt\"))"
   ]
  },
  {
   "cell_type": "markdown",
   "id": "20f7d1c2",
   "metadata": {},
   "source": [
    "# 5"
   ]
  },
  {
   "cell_type": "code",
   "execution_count": 75,
   "id": "06507de5",
   "metadata": {},
   "outputs": [
    {
     "name": "stdout",
     "output_type": "stream",
     "text": [
      "donner n 1\n",
      "5 : Python supports multiple programming paradigms, including object-oriented, imperative and functional programming or procedural styles. It features a dynamic type system and automatic memory management and has a large and comprehensive standard library.The best way we learn anything is by practice and exercise questions. We  have started this section for those (beginner to intermediate) who are familiar with Python.\n"
     ]
    }
   ],
   "source": [
    "with open(\"python .txt\",\"r\") as f:\n",
    "    n=int(input(\"donner n \"))\n",
    "    for i in range (n): \n",
    "        last_line = f.readlines()[-1]\n",
    "        print(\"5 :\",last_line)"
   ]
  }
 ],
 "metadata": {
  "kernelspec": {
   "display_name": "Python 3",
   "language": "python",
   "name": "python3"
  },
  "language_info": {
   "codemirror_mode": {
    "name": "ipython",
    "version": 3
   },
   "file_extension": ".py",
   "mimetype": "text/x-python",
   "name": "python",
   "nbconvert_exporter": "python",
   "pygments_lexer": "ipython3",
   "version": "3.8.8"
  }
 },
 "nbformat": 4,
 "nbformat_minor": 5
}
